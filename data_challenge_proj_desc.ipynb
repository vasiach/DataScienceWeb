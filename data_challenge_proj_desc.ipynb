{
 "cells": [
  {
   "cell_type": "markdown",
   "metadata": {
    "collapsed": true
   },
   "source": [
    "# Project: Predict a user’s next order\n",
    "\n",
    "In this project you are given a dataset that describes customers' orders over time in a specific e-shop. The goal of the competition is to predict whether the user will buy products from a specific department in his next order. For each user, we provide between 4 and 100 of their orders, with the sequence of products purchased in each order. We also provide the week and hour of day the order was placed, and a relative measure of time between orders.\n",
    "\n",
    "In this specific case we are interested in predicting whether the users will buy at least one product from the department **7**-\"beverages\" in their next order. \n",
    "\n",
    "You may form teams of two or work individually.\n",
    "\n",
    "### Data description\n",
    "The data can be downloaded from here https://www.dropbox.com/s/4492bcfmvaxfghn/data.zip?dl=0. We now give you a brief description about each data file\n",
    "\n",
    "orders.csv:\n",
    "This file contains the information of all orders for the users. Some of them are used for training some for testing and some for the prior order history.\n",
    "\n",
    "    order_id: order identifier\n",
    "    user_id: customer identifier\n",
    "    order_number: the order sequence number for this user (1 = first, n = nth)\n",
    "    order_dow: the day of the week the order was placed on\n",
    "    order_hour_of_day: the hour of the day the order was placed on\n",
    "    days_since_prior: days since the last order, capped at 30 (with NAs for order_number = 1)\n",
    "    \n",
    "products.csv:\n",
    "\n",
    "    product_id: product identifier\n",
    "    product_name: name of the product\n",
    "    aisle_id: foreign key (The aisle where the product can be found)\n",
    "    department_id: foreign key (The department where the product belongs). We are interested in the department with id 7 in this challenge\n",
    "    \n",
    "aisles.csv:\n",
    "\n",
    "    aisle_id: aisle identifier\n",
    "    aisle: the name of the aisle\n",
    "    \n",
    "deptartments.csv:\n",
    "\n",
    "    department_id: department identifier\n",
    "    department: the name of the department   \n",
    "    \n",
    "order_products__prior.csv: \n",
    "This file contains the history of orders for the users. All orders in this file took place prior to the ones that are given in the train and test files. **One of the goals of this project is to extract features from this file in order to make your predictions better**.\n",
    "\n",
    "    order_id: foreign key\n",
    "    product_id: foreign key\n",
    "    add_to_cart_order: order in which each product was added to cart\n",
    "    reordered: 1 if this product has been ordered by this user in the past, 0 otherwise\n",
    "    \n",
    "    \n",
    "X_train.csv:\n",
    "    This file contains the order_ids that will be used as training dataset. The data in this file are the subset of the orders.csv file that corresponds to the training data. The format is the same with orders.csv.\n",
    "    \n",
    "    \n",
    "y_train.csv:\n",
    "    This file contains the true labels of the order_ids that are contained in the training set. If an order actually contains at least one product from department 7(beverages) then it belongs to category 1, else 0. E.g\n",
    "    \n",
    "        order_id,category\n",
    "        2620548,0\n",
    "        1707550,1\n",
    "    \n",
    "X_test.csv:\n",
    "    This file contains the order_ids that will be used for testing. The data in this file are the subset of the orders.csv file that corresponds to the test data. The format is the same with orders.csv.\n",
    "   "
   ]
  },
  {
   "cell_type": "markdown",
   "metadata": {},
   "source": [
    "### Example\n"
   ]
  },
  {
   "cell_type": "code",
   "execution_count": 3,
   "metadata": {},
   "outputs": [
    {
     "name": "stdout",
     "output_type": "stream",
     "text": [
      "   order_id  category\n",
      "0   3110915         0\n",
      "1   2277131         1\n"
     ]
    }
   ],
   "source": [
    "import pandas as pd\n",
    "from sklearn.model_selection import train_test_split\n",
    "from sklearn.metrics import accuracy_score\n",
    "from sklearn.linear_model import LogisticRegression\n",
    "import numpy as np\n",
    "\n",
    "\n",
    "#read train test data\n",
    "X_train=pd.read_csv(\"data/X_train.csv\")\n",
    "y_train=pd.read_csv(\"data/y_train.csv\")\n",
    "X_test=pd.read_csv(\"data/X_test.csv\")\n",
    "print(y_train.head(2))\n",
    "\n",
    "\n"
   ]
  },
  {
   "cell_type": "code",
   "execution_count": 6,
   "metadata": {},
   "outputs": [
    {
     "data": {
      "text/html": [
       "<div>\n",
       "<style>\n",
       "    .dataframe thead tr:only-child th {\n",
       "        text-align: right;\n",
       "    }\n",
       "\n",
       "    .dataframe thead th {\n",
       "        text-align: left;\n",
       "    }\n",
       "\n",
       "    .dataframe tbody tr th {\n",
       "        vertical-align: top;\n",
       "    }\n",
       "</style>\n",
       "<table border=\"1\" class=\"dataframe\">\n",
       "  <thead>\n",
       "    <tr style=\"text-align: right;\">\n",
       "      <th></th>\n",
       "      <th>aisle_id</th>\n",
       "      <th>aisle</th>\n",
       "    </tr>\n",
       "  </thead>\n",
       "  <tbody>\n",
       "    <tr>\n",
       "      <th>0</th>\n",
       "      <td>1</td>\n",
       "      <td>prepared soups salads</td>\n",
       "    </tr>\n",
       "    <tr>\n",
       "      <th>1</th>\n",
       "      <td>2</td>\n",
       "      <td>specialty cheeses</td>\n",
       "    </tr>\n",
       "  </tbody>\n",
       "</table>\n",
       "</div>"
      ],
      "text/plain": [
       "   aisle_id                  aisle\n",
       "0         1  prepared soups salads\n",
       "1         2      specialty cheeses"
      ]
     },
     "execution_count": 6,
     "metadata": {},
     "output_type": "execute_result"
    }
   ],
   "source": [
    "orders = pd.read_csv('data/orders.csv')\n",
    "products = pd.read_csv('data/products.csv')\n",
    "orders_priors = pd.read_csv('data/order_products__prior.csv')\n",
    "departments = pd.read_csv('data/departments.csv')\n",
    "aisles = pd.read_csv('data/aisles.csv')\n"
   ]
  },
  {
   "cell_type": "code",
   "execution_count": 11,
   "metadata": {},
   "outputs": [
    {
     "data": {
      "text/html": [
       "<div>\n",
       "<style>\n",
       "    .dataframe thead tr:only-child th {\n",
       "        text-align: right;\n",
       "    }\n",
       "\n",
       "    .dataframe thead th {\n",
       "        text-align: left;\n",
       "    }\n",
       "\n",
       "    .dataframe tbody tr th {\n",
       "        vertical-align: top;\n",
       "    }\n",
       "</style>\n",
       "<table border=\"1\" class=\"dataframe\">\n",
       "  <thead>\n",
       "    <tr style=\"text-align: right;\">\n",
       "      <th></th>\n",
       "      <th>product_id</th>\n",
       "      <th>product_name</th>\n",
       "      <th>aisle_id</th>\n",
       "      <th>department_id</th>\n",
       "    </tr>\n",
       "  </thead>\n",
       "  <tbody>\n",
       "    <tr>\n",
       "      <th>2</th>\n",
       "      <td>3</td>\n",
       "      <td>Robust Golden Unsweetened Oolong Tea</td>\n",
       "      <td>94</td>\n",
       "      <td>7</td>\n",
       "    </tr>\n",
       "    <tr>\n",
       "      <th>6</th>\n",
       "      <td>7</td>\n",
       "      <td>Pure Coconut Water With Orange</td>\n",
       "      <td>98</td>\n",
       "      <td>7</td>\n",
       "    </tr>\n",
       "  </tbody>\n",
       "</table>\n",
       "</div>"
      ],
      "text/plain": [
       "   product_id                          product_name  aisle_id  department_id\n",
       "2           3  Robust Golden Unsweetened Oolong Tea        94              7\n",
       "6           7        Pure Coconut Water With Orange        98              7"
      ]
     },
     "execution_count": 11,
     "metadata": {},
     "output_type": "execute_result"
    }
   ],
   "source": [
    "products_bev = products[products['department_id']==7]\n",
    "products_bev_id = list(products_bev.product_id.values)\n",
    "products_bev.head(2)"
   ]
  },
  {
   "cell_type": "code",
   "execution_count": 2,
   "metadata": {},
   "outputs": [
    {
     "name": "stdout",
     "output_type": "stream",
     "text": [
      "('random', 0.50173210161662818)\n",
      "('logreg', 0.51343341031562739)\n"
     ]
    }
   ],
   "source": [
    "X_example_train, X_example_test, y_example_train, y_example_test = train_test_split(X_train, y_train, test_size=0.33)\n",
    "#random\n",
    "print(\"random\",accuracy_score(y_example_test[\"category\"], np.random.randint(2, size=len(y_example_test))))\n",
    "#Logistic regression\n",
    "logreg = LogisticRegression()\n",
    "logreg.fit(X_example_train, y_example_train[\"category\"])\n",
    "y_pred = logreg.predict(X_example_test)\n",
    "print(\"logreg\",accuracy_score(y_example_test[\"category\"], y_pred))"
   ]
  },
  {
   "cell_type": "markdown",
   "metadata": {},
   "source": [
    "### Submission instructions\n",
    "\n",
    "The metric that we will use in order to evaluate your predictions is accuracy. You should create a file called y_test that will contain the predictions of your model for the orders contained in the X_test file. The format of the y_test file should be exactly the same as the y_train file. For example:\n",
    "    \n",
    "    order_id,category\n",
    "    2620548,0\n",
    "    1707550,1\n",
    "    \n",
    "Given the classifier we trained before we can now generate predictions for the test set:   "
   ]
  },
  {
   "cell_type": "code",
   "execution_count": 23,
   "metadata": {},
   "outputs": [
    {
     "name": "stdout",
     "output_type": "stream",
     "text": [
      "   order_id  user_id  order_number  order_dow  order_hour_of_day  \\\n",
      "0   2401431    24698             6          1                 16   \n",
      "1    198450   152822            41          4                  9   \n",
      "\n",
      "   days_since_prior_order  \n",
      "0                    15.0  \n",
      "1                    13.0  \n"
     ]
    }
   ],
   "source": [
    "print(X_test.head(2))\n",
    "X_test['category']=logreg.predict(X_test)\n",
    "submission=X_test[['order_id','category']]\n",
    "submission.to_csv(\"sample_submission.csv\",index=False)"
   ]
  },
  {
   "cell_type": "markdown",
   "metadata": {},
   "source": [
    "**For the evaluation you have to upload the submission file to http://195.251.252.9/challengePostgrad. Teams that will not submit any solutions will not be graded. The platform will be open for submissions after 7/12/2017**"
   ]
  },
  {
   "cell_type": "code",
   "execution_count": null,
   "metadata": {
    "collapsed": true
   },
   "outputs": [],
   "source": []
  }
 ],
 "metadata": {
  "kernelspec": {
   "display_name": "Python 2",
   "language": "python",
   "name": "python2"
  },
  "language_info": {
   "codemirror_mode": {
    "name": "ipython",
    "version": 2
   },
   "file_extension": ".py",
   "mimetype": "text/x-python",
   "name": "python",
   "nbconvert_exporter": "python",
   "pygments_lexer": "ipython2",
   "version": "2.7.13"
  }
 },
 "nbformat": 4,
 "nbformat_minor": 1
}
